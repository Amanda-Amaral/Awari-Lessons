{
 "cells": [
  {
   "cell_type": "code",
   "execution_count": 62,
   "metadata": {},
   "outputs": [
    {
     "name": "stderr",
     "output_type": "stream",
     "text": [
      "\n",
      "\n",
      "====== WebDriver manager ======\n",
      "Current google-chrome version is 91.0.4472\n",
      "Get LATEST driver version for 91.0.4472\n",
      "Driver [C:\\Users\\doama\\.wdm\\drivers\\chromedriver\\win32\\91.0.4472.101\\chromedriver.exe] found in cache\n"
     ]
    }
   ],
   "source": [
    "from selenium import webdriver\n",
    "from webdriver_manager.chrome import ChromeDriverManager\n",
    "from selenium.webdriver.common.keys import Keys\n",
    "driver = webdriver.Chrome(ChromeDriverManager().install())"
   ]
  },
  {
   "cell_type": "code",
   "execution_count": 63,
   "metadata": {},
   "outputs": [],
   "source": [
    "driver.get('https://br.linkedin.com/jobs/ci%C3%AAncia-de-dados-vagas?position=1&pageNum=0')"
   ]
  },
  {
   "cell_type": "code",
   "execution_count": 64,
   "metadata": {},
   "outputs": [],
   "source": [
    "descricao = driver.find_element_by_xpath('/html/body/div[1]/div/section/div[2]/section[2]') #ou pegar pelo class_name -> description"
   ]
  },
  {
   "cell_type": "code",
   "execution_count": 65,
   "metadata": {},
   "outputs": [
    {
     "name": "stdout",
     "output_type": "stream",
     "text": [
      "Descrição da área:\n",
      "\n",
      "A Gerência de Ciência de Dados tem como missão disseminar o conhecimento analítico na Porto Seguro e apoiar as diversas áreas da empresa na tomada de decisão, baseada em análise. Além de atuar como uma consultoria, ela também é provedora de inovações e soluções de Inteligência Artificial na Gestão de Risco e Resultados, Marketing e Vendas, e Eficiência Operacional.\n",
      "\n",
      "\n",
      "\n",
      "\n",
      "\n",
      "\n",
      "\n",
      "\n",
      "\n",
      "\n",
      "\n",
      "\n",
      "\n",
      "\n",
      "\n",
      "\n",
      "Exibir mais\n",
      "Nível de experiência\n",
      "Não aplicável\n",
      "Tipo de emprego\n",
      "Tempo integral\n",
      "Função\n",
      "Engenharia e Tecnologia da informação\n",
      "Setores\n",
      "Seguros\n"
     ]
    }
   ],
   "source": [
    "print(descricao.text)"
   ]
  },
  {
   "cell_type": "code",
   "execution_count": 66,
   "metadata": {},
   "outputs": [
    {
     "data": {
      "text/plain": [
       "[<selenium.webdriver.remote.webelement.WebElement (session=\"5f0b4f3e7ffac4abfe784b1ae264b295\", element=\"6ba94762-6115-42a2-a441-6a01a89f9187\")>,\n",
       " <selenium.webdriver.remote.webelement.WebElement (session=\"5f0b4f3e7ffac4abfe784b1ae264b295\", element=\"8f81cf54-e381-4727-93e7-a9d1f3bdb4b9\")>,\n",
       " <selenium.webdriver.remote.webelement.WebElement (session=\"5f0b4f3e7ffac4abfe784b1ae264b295\", element=\"4b5b1fa2-05e5-4b76-b706-36477774a2cf\")>,\n",
       " <selenium.webdriver.remote.webelement.WebElement (session=\"5f0b4f3e7ffac4abfe784b1ae264b295\", element=\"a69d68b5-2109-4452-b0c0-15745fcbcb8c\")>,\n",
       " <selenium.webdriver.remote.webelement.WebElement (session=\"5f0b4f3e7ffac4abfe784b1ae264b295\", element=\"b0a8fb32-61b1-46ad-ae8f-e21b39e5ea26\")>,\n",
       " <selenium.webdriver.remote.webelement.WebElement (session=\"5f0b4f3e7ffac4abfe784b1ae264b295\", element=\"8da3a48e-4531-4f72-8d94-b67c8e1c517d\")>,\n",
       " <selenium.webdriver.remote.webelement.WebElement (session=\"5f0b4f3e7ffac4abfe784b1ae264b295\", element=\"6e90091b-e1db-474a-99f5-d3b65656e57f\")>,\n",
       " <selenium.webdriver.remote.webelement.WebElement (session=\"5f0b4f3e7ffac4abfe784b1ae264b295\", element=\"0073a4b5-3fe3-480a-aeed-841e59db6daf\")>,\n",
       " <selenium.webdriver.remote.webelement.WebElement (session=\"5f0b4f3e7ffac4abfe784b1ae264b295\", element=\"425f4aaa-f279-4f25-8d47-9d6a3e499248\")>,\n",
       " <selenium.webdriver.remote.webelement.WebElement (session=\"5f0b4f3e7ffac4abfe784b1ae264b295\", element=\"10ffa5eb-a227-4f98-875a-baad1c7e1638\")>,\n",
       " <selenium.webdriver.remote.webelement.WebElement (session=\"5f0b4f3e7ffac4abfe784b1ae264b295\", element=\"f798bc0d-2ddb-49fb-bc13-2d1f1cabc7d6\")>,\n",
       " <selenium.webdriver.remote.webelement.WebElement (session=\"5f0b4f3e7ffac4abfe784b1ae264b295\", element=\"70d8e44b-7870-454d-8504-5087d188cab8\")>,\n",
       " <selenium.webdriver.remote.webelement.WebElement (session=\"5f0b4f3e7ffac4abfe784b1ae264b295\", element=\"546ac166-9cb8-4ca6-9c4d-362c254ad9d1\")>,\n",
       " <selenium.webdriver.remote.webelement.WebElement (session=\"5f0b4f3e7ffac4abfe784b1ae264b295\", element=\"3be78209-7747-47fd-ad02-84e9b1a6857a\")>,\n",
       " <selenium.webdriver.remote.webelement.WebElement (session=\"5f0b4f3e7ffac4abfe784b1ae264b295\", element=\"15591e77-fdcc-4a25-9f28-c2a67c34efa3\")>,\n",
       " <selenium.webdriver.remote.webelement.WebElement (session=\"5f0b4f3e7ffac4abfe784b1ae264b295\", element=\"b6ff56e7-c09c-4383-b4ed-94c4965f0ab1\")>,\n",
       " <selenium.webdriver.remote.webelement.WebElement (session=\"5f0b4f3e7ffac4abfe784b1ae264b295\", element=\"3fff031e-f5af-410f-b06c-6f409183d511\")>,\n",
       " <selenium.webdriver.remote.webelement.WebElement (session=\"5f0b4f3e7ffac4abfe784b1ae264b295\", element=\"c8067d51-ca30-4599-8c9a-c46b7310dbad\")>,\n",
       " <selenium.webdriver.remote.webelement.WebElement (session=\"5f0b4f3e7ffac4abfe784b1ae264b295\", element=\"33327340-c821-487b-b77b-da5dfd8b1493\")>,\n",
       " <selenium.webdriver.remote.webelement.WebElement (session=\"5f0b4f3e7ffac4abfe784b1ae264b295\", element=\"fbe57df6-0073-4ace-82a0-fe3ed9b06f28\")>,\n",
       " <selenium.webdriver.remote.webelement.WebElement (session=\"5f0b4f3e7ffac4abfe784b1ae264b295\", element=\"84a9d89b-f868-4463-9587-ccd0d55b4082\")>,\n",
       " <selenium.webdriver.remote.webelement.WebElement (session=\"5f0b4f3e7ffac4abfe784b1ae264b295\", element=\"8544687d-d94b-4ac4-b6bf-206fc0dddda2\")>,\n",
       " <selenium.webdriver.remote.webelement.WebElement (session=\"5f0b4f3e7ffac4abfe784b1ae264b295\", element=\"ffb39201-2c8f-4ed2-a51e-12e964281af1\")>]"
      ]
     },
     "execution_count": 66,
     "metadata": {},
     "output_type": "execute_result"
    }
   ],
   "source": [
    "driver.find_elements_by_class_name('base-card')"
   ]
  },
  {
   "cell_type": "code",
   "execution_count": 85,
   "metadata": {},
   "outputs": [],
   "source": [
    "resultados = driver.find_elements_by_class_name('base-card')"
   ]
  },
  {
   "cell_type": "code",
   "execution_count": 86,
   "metadata": {},
   "outputs": [
    {
     "data": {
      "text/plain": [
       "23"
      ]
     },
     "execution_count": 86,
     "metadata": {},
     "output_type": "execute_result"
    }
   ],
   "source": [
    "len(resultados)"
   ]
  },
  {
   "cell_type": "code",
   "execution_count": 90,
   "metadata": {},
   "outputs": [
    {
     "ename": "StaleElementReferenceException",
     "evalue": "Message: stale element reference: element is not attached to the page document\n  (Session info: chrome=91.0.4472.106)\n",
     "output_type": "error",
     "traceback": [
      "\u001b[1;31m---------------------------------------------------------------------------\u001b[0m",
      "\u001b[1;31mStaleElementReferenceException\u001b[0m            Traceback (most recent call last)",
      "\u001b[1;32m<ipython-input-90-3151c8fa845a>\u001b[0m in \u001b[0;36m<module>\u001b[1;34m\u001b[0m\n\u001b[0;32m      1\u001b[0m \u001b[0mlista_descri\u001b[0m\u001b[1;33m=\u001b[0m\u001b[1;33m[\u001b[0m\u001b[1;33m]\u001b[0m\u001b[1;33m\u001b[0m\u001b[1;33m\u001b[0m\u001b[0m\n\u001b[0;32m      2\u001b[0m \u001b[1;32mfor\u001b[0m \u001b[0mvaga\u001b[0m \u001b[1;32min\u001b[0m \u001b[0mresultados\u001b[0m\u001b[1;33m:\u001b[0m\u001b[1;33m\u001b[0m\u001b[1;33m\u001b[0m\u001b[0m\n\u001b[1;32m----> 3\u001b[1;33m     \u001b[0mvaga\u001b[0m\u001b[1;33m.\u001b[0m\u001b[0mclick\u001b[0m\u001b[1;33m(\u001b[0m\u001b[1;33m)\u001b[0m\u001b[1;33m\u001b[0m\u001b[1;33m\u001b[0m\u001b[0m\n\u001b[0m\u001b[0;32m      4\u001b[0m     \u001b[0mdriver\u001b[0m\u001b[1;33m.\u001b[0m\u001b[0mfind_element_by_class_name\u001b[0m\u001b[1;33m(\u001b[0m\u001b[1;34m'show-more-less-html__markup show-more-less-html__markup--clamp-after-5'\u001b[0m\u001b[1;33m)\u001b[0m\u001b[1;33m.\u001b[0m\u001b[0mclick\u001b[0m\u001b[1;33m(\u001b[0m\u001b[1;33m)\u001b[0m\u001b[1;33m\u001b[0m\u001b[1;33m\u001b[0m\u001b[0m\n\u001b[0;32m      5\u001b[0m     \u001b[0mlista_descri\u001b[0m\u001b[1;33m.\u001b[0m\u001b[0mappend\u001b[0m\u001b[1;33m(\u001b[0m\u001b[1;33m(\u001b[0m\u001b[0mdriver\u001b[0m\u001b[1;33m.\u001b[0m\u001b[0mfind_element_by_class_name\u001b[0m\u001b[1;33m(\u001b[0m\u001b[1;34m'description'\u001b[0m\u001b[1;33m)\u001b[0m\u001b[1;33m)\u001b[0m\u001b[1;33m.\u001b[0m\u001b[0mtext\u001b[0m\u001b[1;33m)\u001b[0m\u001b[1;33m\u001b[0m\u001b[1;33m\u001b[0m\u001b[0m\n",
      "\u001b[1;32m~\\anaconda3\\lib\\site-packages\\selenium\\webdriver\\remote\\webelement.py\u001b[0m in \u001b[0;36mclick\u001b[1;34m(self)\u001b[0m\n\u001b[0;32m     78\u001b[0m     \u001b[1;32mdef\u001b[0m \u001b[0mclick\u001b[0m\u001b[1;33m(\u001b[0m\u001b[0mself\u001b[0m\u001b[1;33m)\u001b[0m\u001b[1;33m:\u001b[0m\u001b[1;33m\u001b[0m\u001b[1;33m\u001b[0m\u001b[0m\n\u001b[0;32m     79\u001b[0m         \u001b[1;34m\"\"\"Clicks the element.\"\"\"\u001b[0m\u001b[1;33m\u001b[0m\u001b[1;33m\u001b[0m\u001b[0m\n\u001b[1;32m---> 80\u001b[1;33m         \u001b[0mself\u001b[0m\u001b[1;33m.\u001b[0m\u001b[0m_execute\u001b[0m\u001b[1;33m(\u001b[0m\u001b[0mCommand\u001b[0m\u001b[1;33m.\u001b[0m\u001b[0mCLICK_ELEMENT\u001b[0m\u001b[1;33m)\u001b[0m\u001b[1;33m\u001b[0m\u001b[1;33m\u001b[0m\u001b[0m\n\u001b[0m\u001b[0;32m     81\u001b[0m \u001b[1;33m\u001b[0m\u001b[0m\n\u001b[0;32m     82\u001b[0m     \u001b[1;32mdef\u001b[0m \u001b[0msubmit\u001b[0m\u001b[1;33m(\u001b[0m\u001b[0mself\u001b[0m\u001b[1;33m)\u001b[0m\u001b[1;33m:\u001b[0m\u001b[1;33m\u001b[0m\u001b[1;33m\u001b[0m\u001b[0m\n",
      "\u001b[1;32m~\\anaconda3\\lib\\site-packages\\selenium\\webdriver\\remote\\webelement.py\u001b[0m in \u001b[0;36m_execute\u001b[1;34m(self, command, params)\u001b[0m\n\u001b[0;32m    631\u001b[0m             \u001b[0mparams\u001b[0m \u001b[1;33m=\u001b[0m \u001b[1;33m{\u001b[0m\u001b[1;33m}\u001b[0m\u001b[1;33m\u001b[0m\u001b[1;33m\u001b[0m\u001b[0m\n\u001b[0;32m    632\u001b[0m         \u001b[0mparams\u001b[0m\u001b[1;33m[\u001b[0m\u001b[1;34m'id'\u001b[0m\u001b[1;33m]\u001b[0m \u001b[1;33m=\u001b[0m \u001b[0mself\u001b[0m\u001b[1;33m.\u001b[0m\u001b[0m_id\u001b[0m\u001b[1;33m\u001b[0m\u001b[1;33m\u001b[0m\u001b[0m\n\u001b[1;32m--> 633\u001b[1;33m         \u001b[1;32mreturn\u001b[0m \u001b[0mself\u001b[0m\u001b[1;33m.\u001b[0m\u001b[0m_parent\u001b[0m\u001b[1;33m.\u001b[0m\u001b[0mexecute\u001b[0m\u001b[1;33m(\u001b[0m\u001b[0mcommand\u001b[0m\u001b[1;33m,\u001b[0m \u001b[0mparams\u001b[0m\u001b[1;33m)\u001b[0m\u001b[1;33m\u001b[0m\u001b[1;33m\u001b[0m\u001b[0m\n\u001b[0m\u001b[0;32m    634\u001b[0m \u001b[1;33m\u001b[0m\u001b[0m\n\u001b[0;32m    635\u001b[0m     \u001b[1;32mdef\u001b[0m \u001b[0mfind_element\u001b[0m\u001b[1;33m(\u001b[0m\u001b[0mself\u001b[0m\u001b[1;33m,\u001b[0m \u001b[0mby\u001b[0m\u001b[1;33m=\u001b[0m\u001b[0mBy\u001b[0m\u001b[1;33m.\u001b[0m\u001b[0mID\u001b[0m\u001b[1;33m,\u001b[0m \u001b[0mvalue\u001b[0m\u001b[1;33m=\u001b[0m\u001b[1;32mNone\u001b[0m\u001b[1;33m)\u001b[0m\u001b[1;33m:\u001b[0m\u001b[1;33m\u001b[0m\u001b[1;33m\u001b[0m\u001b[0m\n",
      "\u001b[1;32m~\\anaconda3\\lib\\site-packages\\selenium\\webdriver\\remote\\webdriver.py\u001b[0m in \u001b[0;36mexecute\u001b[1;34m(self, driver_command, params)\u001b[0m\n\u001b[0;32m    319\u001b[0m         \u001b[0mresponse\u001b[0m \u001b[1;33m=\u001b[0m \u001b[0mself\u001b[0m\u001b[1;33m.\u001b[0m\u001b[0mcommand_executor\u001b[0m\u001b[1;33m.\u001b[0m\u001b[0mexecute\u001b[0m\u001b[1;33m(\u001b[0m\u001b[0mdriver_command\u001b[0m\u001b[1;33m,\u001b[0m \u001b[0mparams\u001b[0m\u001b[1;33m)\u001b[0m\u001b[1;33m\u001b[0m\u001b[1;33m\u001b[0m\u001b[0m\n\u001b[0;32m    320\u001b[0m         \u001b[1;32mif\u001b[0m \u001b[0mresponse\u001b[0m\u001b[1;33m:\u001b[0m\u001b[1;33m\u001b[0m\u001b[1;33m\u001b[0m\u001b[0m\n\u001b[1;32m--> 321\u001b[1;33m             \u001b[0mself\u001b[0m\u001b[1;33m.\u001b[0m\u001b[0merror_handler\u001b[0m\u001b[1;33m.\u001b[0m\u001b[0mcheck_response\u001b[0m\u001b[1;33m(\u001b[0m\u001b[0mresponse\u001b[0m\u001b[1;33m)\u001b[0m\u001b[1;33m\u001b[0m\u001b[1;33m\u001b[0m\u001b[0m\n\u001b[0m\u001b[0;32m    322\u001b[0m             response['value'] = self._unwrap_value(\n\u001b[0;32m    323\u001b[0m                 response.get('value', None))\n",
      "\u001b[1;32m~\\anaconda3\\lib\\site-packages\\selenium\\webdriver\\remote\\errorhandler.py\u001b[0m in \u001b[0;36mcheck_response\u001b[1;34m(self, response)\u001b[0m\n\u001b[0;32m    240\u001b[0m                 \u001b[0malert_text\u001b[0m \u001b[1;33m=\u001b[0m \u001b[0mvalue\u001b[0m\u001b[1;33m[\u001b[0m\u001b[1;34m'alert'\u001b[0m\u001b[1;33m]\u001b[0m\u001b[1;33m.\u001b[0m\u001b[0mget\u001b[0m\u001b[1;33m(\u001b[0m\u001b[1;34m'text'\u001b[0m\u001b[1;33m)\u001b[0m\u001b[1;33m\u001b[0m\u001b[1;33m\u001b[0m\u001b[0m\n\u001b[0;32m    241\u001b[0m             \u001b[1;32mraise\u001b[0m \u001b[0mexception_class\u001b[0m\u001b[1;33m(\u001b[0m\u001b[0mmessage\u001b[0m\u001b[1;33m,\u001b[0m \u001b[0mscreen\u001b[0m\u001b[1;33m,\u001b[0m \u001b[0mstacktrace\u001b[0m\u001b[1;33m,\u001b[0m \u001b[0malert_text\u001b[0m\u001b[1;33m)\u001b[0m\u001b[1;33m\u001b[0m\u001b[1;33m\u001b[0m\u001b[0m\n\u001b[1;32m--> 242\u001b[1;33m         \u001b[1;32mraise\u001b[0m \u001b[0mexception_class\u001b[0m\u001b[1;33m(\u001b[0m\u001b[0mmessage\u001b[0m\u001b[1;33m,\u001b[0m \u001b[0mscreen\u001b[0m\u001b[1;33m,\u001b[0m \u001b[0mstacktrace\u001b[0m\u001b[1;33m)\u001b[0m\u001b[1;33m\u001b[0m\u001b[1;33m\u001b[0m\u001b[0m\n\u001b[0m\u001b[0;32m    243\u001b[0m \u001b[1;33m\u001b[0m\u001b[0m\n\u001b[0;32m    244\u001b[0m     \u001b[1;32mdef\u001b[0m \u001b[0m_value_or_default\u001b[0m\u001b[1;33m(\u001b[0m\u001b[0mself\u001b[0m\u001b[1;33m,\u001b[0m \u001b[0mobj\u001b[0m\u001b[1;33m,\u001b[0m \u001b[0mkey\u001b[0m\u001b[1;33m,\u001b[0m \u001b[0mdefault\u001b[0m\u001b[1;33m)\u001b[0m\u001b[1;33m:\u001b[0m\u001b[1;33m\u001b[0m\u001b[1;33m\u001b[0m\u001b[0m\n",
      "\u001b[1;31mStaleElementReferenceException\u001b[0m: Message: stale element reference: element is not attached to the page document\n  (Session info: chrome=91.0.4472.106)\n"
     ]
    }
   ],
   "source": [
    "lista_descri=[]\n",
    "for vaga in resultados:\n",
    "    vaga.click()\n",
    "    driver.find_element_by_class_name('show-more-less-html__markup show-more-less-html__markup--clamp-after-5').click()\n",
    "    lista_descri.append((driver.find_element_by_class_name('description')).text)"
   ]
  },
  {
   "cell_type": "code",
   "execution_count": 88,
   "metadata": {},
   "outputs": [
    {
     "data": {
      "text/plain": [
       "['Descrição da área:\\n\\nA Gerência de Ciência de Dados tem como missão disseminar o conhecimento analítico na Porto Seguro e apoiar as diversas áreas da empresa na tomada de decisão, baseada em análise. Além de atuar como uma consultoria, ela também é provedora de inovações e soluções de Inteligência Artificial na Gestão de Risco e Resultados, Marketing e Vendas, e Eficiência Operacional.\\n\\n\\n\\n\\n\\n\\n\\n\\n\\n\\n\\n\\n\\n\\n\\n\\nExibir mais\\nNível de experiência\\nNão aplicável\\nTipo de emprego\\nTempo integral\\nFunção\\nEngenharia e Tecnologia da informação\\nSetores\\nSeguros',\n",
       " '',\n",
       " '',\n",
       " '',\n",
       " '',\n",
       " '']"
      ]
     },
     "execution_count": 88,
     "metadata": {},
     "output_type": "execute_result"
    }
   ],
   "source": [
    "lista_descri"
   ]
  },
  {
   "cell_type": "code",
   "execution_count": null,
   "metadata": {},
   "outputs": [],
   "source": []
  }
 ],
 "metadata": {
  "kernelspec": {
   "display_name": "Python 3",
   "language": "python",
   "name": "python3"
  },
  "language_info": {
   "codemirror_mode": {
    "name": "ipython",
    "version": 3
   },
   "file_extension": ".py",
   "mimetype": "text/x-python",
   "name": "python",
   "nbconvert_exporter": "python",
   "pygments_lexer": "ipython3",
   "version": "3.8.5"
  }
 },
 "nbformat": 4,
 "nbformat_minor": 4
}
